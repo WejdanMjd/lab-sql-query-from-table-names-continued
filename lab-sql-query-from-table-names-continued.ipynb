{
 "cells": [
  {
   "cell_type": "markdown",
   "id": "7d930c89-4954-4e39-be5a-601c1dd89512",
   "metadata": {
    "id": "7d930c89-4954-4e39-be5a-601c1dd89512"
   },
   "source": [
    "# SQL query from table names - Continued"
   ]
  },
  {
   "cell_type": "code",
   "execution_count": 1,
   "id": "a03f026a",
   "metadata": {
    "id": "a03f026a"
   },
   "outputs": [],
   "source": [
    "from openai import OpenAI\n",
    "import os\n",
    "from dotenv import load_dotenv, find_dotenv\n",
    "_ = load_dotenv(find_dotenv())\n",
    "\n",
    "OPENAI_API_KEY  = os.getenv('OPENAI_API_KEY')"
   ]
  },
  {
   "cell_type": "markdown",
   "id": "53a05b80-88fd-42b2-ba89-763074ae74e9",
   "metadata": {
    "id": "53a05b80-88fd-42b2-ba89-763074ae74e9"
   },
   "source": [
    "## The old Prompt"
   ]
  },
  {
   "cell_type": "code",
   "execution_count": 2,
   "id": "922f8d24",
   "metadata": {
    "id": "922f8d24"
   },
   "outputs": [],
   "source": [
    "#The old prompt\n",
    "old_context = [ {'role':'system', 'content':\"\"\"\n",
    "you are a bot to assist in create SQL commands, all your answers should start with \\\n",
    "this is your SQL, and after that an SQL that can do what the user request. \\\n",
    "Your Database is composed by a SQL database with some tables. \\\n",
    "Try to maintain the SQL order simple.\n",
    "Put the SQL command in white letters with a black background, and just after \\\n",
    "a simple and concise text explaining how it works.\n",
    "If the user ask for something that can not be solved with an SQL Order \\\n",
    "just answer something nice and simple, maximum 10 words, asking him for something that \\\n",
    "can be solved with SQL.\n",
    "\"\"\"} ]\n",
    "\n",
    "old_context.append( {'role':'system', 'content':\"\"\"\n",
    "first table:\n",
    "{\n",
    "  \"tableName\": \"employees\",\n",
    "  \"fields\": [\n",
    "    {\n",
    "      \"nombre\": \"ID_usr\",\n",
    "      \"tipo\": \"int\"\n",
    "    },\n",
    "    {\n",
    "      \"nombre\": \"name\",\n",
    "      \"tipo\": \"varchar\"\n",
    "    }\n",
    "  ]\n",
    "}\n",
    "\"\"\"\n",
    "})\n",
    "\n",
    "old_context.append( {'role':'system', 'content':\"\"\"\n",
    "second table:\n",
    "{\n",
    "  \"tableName\": \"salary\",\n",
    "  \"fields\": [\n",
    "    {\n",
    "      \"nombre\": \"ID_usr\",\n",
    "      \"type\": \"int\"\n",
    "    },\n",
    "    {\n",
    "      \"name\": \"year\",\n",
    "      \"type\": \"date\"\n",
    "    },\n",
    "    {\n",
    "      \"name\": \"salary\",\n",
    "      \"type\": \"float\"\n",
    "    }\n",
    "  ]\n",
    "}\n",
    "\"\"\"\n",
    "})\n",
    "\n",
    "old_context.append( {'role':'system', 'content':\"\"\"\n",
    "third table:\n",
    "{\n",
    "  \"tablename\": \"studies\",\n",
    "  \"fields\": [\n",
    "    {\n",
    "      \"name\": \"ID\",\n",
    "      \"type\": \"int\"\n",
    "    },\n",
    "    {\n",
    "      \"name\": \"ID_usr\",\n",
    "      \"type\": \"int\"\n",
    "    },\n",
    "    {\n",
    "      \"name\": \"educational_level\",\n",
    "      \"type\": \"int\"\n",
    "    },\n",
    "    {\n",
    "      \"name\": \"Institution\",\n",
    "      \"type\": \"varchar\"\n",
    "    },\n",
    "    {\n",
    "      \"name\": \"Years\",\n",
    "      \"type\": \"date\"\n",
    "    }\n",
    "    {\n",
    "      \"name\": \"Speciality\",\n",
    "      \"type\": \"varchar\"\n",
    "    }\n",
    "  ]\n",
    "}\n",
    "\"\"\"\n",
    "})"
   ]
  },
  {
   "cell_type": "markdown",
   "id": "377acaae-7dd0-4d13-bc68-9e33741c231c",
   "metadata": {
    "id": "377acaae-7dd0-4d13-bc68-9e33741c231c"
   },
   "source": [
    "## New Prompt.\n",
    "We are going to improve it following the instructions of a Paper from the Ohaio University: [How to Prompt LLMs for Text-to-SQL: A Study in Zero-shot, Single-domain, and Cross-domain Settings](https://arxiv.org/abs/2305.11853). I recommend you read that paper.\n",
    "\n",
    "For each table, we will define the structure using the same syntax as in a SQL create table command, and add the sample rows of the content.\n",
    "\n",
    "Finally, at the end of the prompt, we'll include some example queries with the SQL that the model should generate. This technique is called Few-Shot Samples, in which we provide the prompt with some examples to assist it in generating the correct SQL.\n"
   ]
  },
  {
   "cell_type": "code",
   "execution_count": 13,
   "id": "5334f942",
   "metadata": {
    "id": "5334f942"
   },
   "outputs": [],
   "source": [
    "context = [\n",
    "    {'role': 'system', 'content': \"\"\"\n",
    "        CREATE TABLE employees (\n",
    "            ID_Usr INT PRIMARY KEY,\n",
    "            name VARCHAR(255)\n",
    "        );\n",
    "\n",
    "        CREATE TABLE salary (\n",
    "            ID_Usr INT,\n",
    "            year DATE,\n",
    "            salary FLOAT,\n",
    "            FOREIGN KEY (ID_Usr) REFERENCES employees(ID_Usr)\n",
    "        );\n",
    "\n",
    "        CREATE TABLE studies (\n",
    "            ID INT PRIMARY KEY,\n",
    "            ID_Usr INT,\n",
    "            educational_level INT,\n",
    "            Institution VARCHAR(255),\n",
    "            Years DATE,\n",
    "            Speciality VARCHAR(255),\n",
    "            FOREIGN KEY (ID_Usr) REFERENCES employees(ID_Usr)\n",
    "        );\n",
    "    \"\"\"},\n",
    "    {'role': 'system', 'content': \"\"\"\n",
    "        -- Example queries for Few-Shot Learning:\n",
    "        -- Get the institution whose graduates have the highest average salary.\n",
    "        SELECT st.Institution, AVG(sa.salary) AS avg_salary\n",
    "        FROM studies st\n",
    "        JOIN employees e ON st.ID_Usr = e.ID_Usr\n",
    "        JOIN salary sa ON e.ID_Usr = sa.ID_Usr\n",
    "        GROUP BY st.Institution\n",
    "        ORDER BY avg_salary DESC\n",
    "        LIMIT 1;\n",
    "    \"\"\"}\n",
    "]\n"
   ]
  },
  {
   "cell_type": "code",
   "execution_count": 14,
   "id": "330e69b0-3f5f-4bb2-8185-aedded2bb993",
   "metadata": {
    "id": "330e69b0-3f5f-4bb2-8185-aedded2bb993"
   },
   "outputs": [],
   "source": [
    "#FEW SHOT SAMPLES\n",
    "context.append( {'role':'system', 'content':\"\"\"\n",
    " -- Maintain the SQL order simple and efficient as you can, using valid SQL Lite, answer the following questions for the table provided above.\n",
    "WRITE IN YOUR CONTEXT QUERIES HERE\n",
    "\"\"\"\n",
    "})"
   ]
  },
  {
   "cell_type": "code",
   "execution_count": 15,
   "id": "b90f417a",
   "metadata": {
    "id": "b90f417a"
   },
   "outputs": [],
   "source": [
    "#Functio to call the model.\n",
    "def return_CCRMSQL(user_message, context):\n",
    "    client = OpenAI(\n",
    "    # This is the default and can be omitted\n",
    "    api_key=OPENAI_API_KEY,\n",
    ")\n",
    "\n",
    "    newcontext = context.copy()\n",
    "    newcontext.append({'role':'user', 'content':\"question: \" + user_message})\n",
    "\n",
    "    response = client.chat.completions.create(\n",
    "            model=\"gpt-3.5-turbo\",\n",
    "            messages=newcontext,\n",
    "            temperature=0,\n",
    "        )\n",
    "\n",
    "    return (response.choices[0].message.content)"
   ]
  },
  {
   "cell_type": "markdown",
   "id": "9e0a4c11-dfe1-46fe-ac2b-3ff825f9749c",
   "metadata": {
    "id": "9e0a4c11-dfe1-46fe-ac2b-3ff825f9749c"
   },
   "source": [
    "## NL2SQL Samples\n",
    "We're going to review some examples generated with the old prompt and others with the new prompt."
   ]
  },
  {
   "cell_type": "code",
   "execution_count": 16,
   "id": "59e8202c-ce34-487e-9037-c65a263423ed",
   "metadata": {
    "colab": {
     "base_uri": "https://localhost:8080/"
    },
    "id": "59e8202c-ce34-487e-9037-c65a263423ed",
    "outputId": "f7a97b9f-45d7-4f78-8979-a796c5bc42fb"
   },
   "outputs": [
    {
     "name": "stdout",
     "output_type": "stream",
     "text": [
      "```sql\n",
      "SELECT e.name\n",
      "FROM employees e\n",
      "JOIN salary sa ON e.ID_Usr = sa.ID_Usr\n",
      "ORDER BY sa.salary DESC\n",
      "LIMIT 1;\n",
      "```\n"
     ]
    }
   ],
   "source": [
    "#new\n",
    "context_user = context.copy()\n",
    "query = \"Get the name of the employee with the highest salary\"\n",
    "print(return_CCRMSQL(query, context_user))\n"
   ]
  },
  {
   "cell_type": "code",
   "execution_count": 17,
   "id": "9c4766b1-48a9-456e-bc6c-4b6f41909aa4",
   "metadata": {
    "colab": {
     "base_uri": "https://localhost:8080/"
    },
    "id": "9c4766b1-48a9-456e-bc6c-4b6f41909aa4",
    "outputId": "029844da-5f1f-4f65-9adb-4d9c1cafacea"
   },
   "outputs": [
    {
     "name": "stdout",
     "output_type": "stream",
     "text": [
      "This is your SQL:\n",
      "```sql\n",
      "SELECT e.name\n",
      "FROM employees e\n",
      "JOIN salary s ON e.ID_usr = s.ID_usr\n",
      "ORDER BY s.salary DESC\n",
      "LIMIT 1;\n",
      "```\n",
      "\n",
      "This SQL query retrieves the name of the employee with the highest salary by joining the \"employees\" table with the \"salary\" table on the ID_usr column. It then orders the result by salary in descending order and limits the output to only the top result, which corresponds to the employee with the highest salary.\n"
     ]
    }
   ],
   "source": [
    "#old\n",
    "old_context_user = old_context.copy()\n",
    "print(return_CCRMSQL(\"Get the name of the employee with the highest salary\"\n",
    ", old_context_user))"
   ]
  },
  {
   "cell_type": "code",
   "execution_count": 18,
   "id": "38d8d370-0524-4a28-bd54-5e5cddb08e2c",
   "metadata": {
    "colab": {
     "base_uri": "https://localhost:8080/"
    },
    "id": "38d8d370-0524-4a28-bd54-5e5cddb08e2c",
    "outputId": "2934cdec-bea0-44db-b047-33e70dcf8ae8"
   },
   "outputs": [
    {
     "name": "stdout",
     "output_type": "stream",
     "text": [
      "To find the institution with graduates having the highest average salary based on employee salary records, you can use the following SQL query:\n",
      "\n",
      "```sql\n",
      "SELECT st.Institution, AVG(sa.salary) AS avg_salary\n",
      "FROM studies st\n",
      "JOIN employees e ON st.ID_Usr = e.ID_Usr\n",
      "JOIN salary sa ON e.ID_Usr = sa.ID_Usr\n",
      "GROUP BY st.Institution\n",
      "ORDER BY avg_salary DESC\n",
      "LIMIT 1;\n",
      "```\n",
      "\n",
      "This query will calculate the average salary for graduates of each institution by joining the `studies`, `employees`, and `salary` tables. It will then group the results by institution, order them by average salary in descending order, and limit the output to the institution with the highest average salary.\n"
     ]
    }
   ],
   "source": [
    "#new\n",
    "print(return_CCRMSQL(\"Which institution has graduates with the highest average salary based on employee salary records?\", context_user))"
   ]
  },
  {
   "cell_type": "code",
   "execution_count": 21,
   "id": "5aa318d4-dd9f-41db-8ff4-c1d87220f766",
   "metadata": {
    "colab": {
     "base_uri": "https://localhost:8080/"
    },
    "id": "5aa318d4-dd9f-41db-8ff4-c1d87220f766",
    "outputId": "605724a1-0d89-4ed9-d8ec-1aeeae6dc287"
   },
   "outputs": [
    {
     "name": "stdout",
     "output_type": "stream",
     "text": [
      "This is your SQL:\n",
      "```sql\n",
      "SELECT s.Institution, AVG(sa.salary) AS avg_salary\n",
      "FROM studies s\n",
      "JOIN employees e ON s.ID_usr = e.ID_usr\n",
      "JOIN salary sa ON s.ID_usr = sa.ID_usr\n",
      "GROUP BY s.Institution\n",
      "ORDER BY avg_salary DESC\n",
      "LIMIT 1;\n",
      "```\n",
      "\n",
      "This SQL query joins the tables `studies`, `employees`, and `salary` to calculate the average salary for graduates of each institution. It then selects the institution with the highest average salary by ordering the results in descending order and limiting the output to the top result.\n"
     ]
    }
   ],
   "source": [
    "#old\n",
    "print(return_CCRMSQL(\"Which institution has graduates with the highest average salary?\", old_context_user))\n"
   ]
  },
  {
   "cell_type": "markdown",
   "id": "0f31968e-74ad-4ae2-9537-b3d550b1be47",
   "metadata": {
    "id": "0f31968e-74ad-4ae2-9537-b3d550b1be47"
   },
   "source": [
    "# Exercise\n",
    " - Complete the prompts similar to what we did in class. \n",
    "     - Try at least 3 versions\n",
    "     - Be creative\n",
    " - Write a one page report summarizing your findings.\n",
    "     - Were there variations that didn't work well? i.e., where GPT either hallucinated or wrong.\n",
    "     - What did you learn?"
   ]
  },
  {
   "cell_type": "code",
   "execution_count": 22,
   "id": "1aae5f2e",
   "metadata": {},
   "outputs": [],
   "source": [
    "store_context = [\n",
    "    {'role': 'system', 'content': \"\"\"\n",
    "        CREATE TABLE products (\n",
    "            product_id INT PRIMARY KEY,\n",
    "            product_name VARCHAR(255),\n",
    "            category VARCHAR(100),\n",
    "            price FLOAT\n",
    "        );\n",
    "\n",
    "        CREATE TABLE sales (\n",
    "            sale_id INT PRIMARY KEY,\n",
    "            product_id INT,\n",
    "            quantity INT,\n",
    "            sale_date DATE,\n",
    "            FOREIGN KEY (product_id) REFERENCES products(product_id)\n",
    "        );\n",
    "    \"\"\"},\n",
    "    {'role': 'system', 'content': \"\"\"\n",
    "        -- Example queries for Few-Shot Learning:\n",
    "        -- Get the most popular fruit (highest quantity sold).\n",
    "        SELECT p.product_name, SUM(s.quantity) AS total_sold\n",
    "        FROM products p\n",
    "        JOIN sales s ON p.product_id = s.product_id\n",
    "        WHERE p.category = 'Fruit'\n",
    "        GROUP BY p.product_name\n",
    "        ORDER BY total_sold DESC\n",
    "        LIMIT 1;\n",
    "    \"\"\"}\n",
    "]\n"
   ]
  },
  {
   "cell_type": "code",
   "execution_count": 23,
   "id": "196ba275",
   "metadata": {},
   "outputs": [
    {
     "name": "stdout",
     "output_type": "stream",
     "text": [
      "To determine which product generated the highest revenue, we need to calculate the total revenue generated by each product by multiplying the quantity sold by the price of the product. Here is the SQL query to find the product that generated the highest revenue:\n",
      "\n",
      "```sql\n",
      "SELECT p.product_name, SUM(s.quantity * p.price) AS total_revenue\n",
      "FROM products p\n",
      "JOIN sales s ON p.product_id = s.product_id\n",
      "GROUP BY p.product_name\n",
      "ORDER BY total_revenue DESC\n",
      "LIMIT 1;\n",
      "```\n",
      "\n",
      "This query will calculate the total revenue generated by each product by multiplying the quantity sold by the price, then group the results by product name, and finally, return the product that generated the highest revenue.\n"
     ]
    }
   ],
   "source": [
    "context_user = store_context.copy()\n",
    "print(return_CCRMSQL(\"Which product generated the highest revenue?\", context_user))\n"
   ]
  },
  {
   "cell_type": "code",
   "execution_count": 24,
   "id": "f4692b2c",
   "metadata": {},
   "outputs": [
    {
     "name": "stdout",
     "output_type": "stream",
     "text": [
      "To determine the best-selling fruit, we can run the following SQL query:\n",
      "\n",
      "```sql\n",
      "SELECT p.product_name, SUM(s.quantity) AS total_sold\n",
      "FROM products p\n",
      "JOIN sales s ON p.product_id = s.product_id\n",
      "WHERE p.category = 'Fruit'\n",
      "GROUP BY p.product_name\n",
      "ORDER BY total_sold DESC\n",
      "LIMIT 1;\n",
      "```\n",
      "\n",
      "This query will provide the fruit that has the highest quantity sold.\n"
     ]
    }
   ],
   "source": [
    "context_user = store_context.copy()\n",
    "print(return_CCRMSQL(\"Which fruit is the best-selling?\", context_user))\n"
   ]
  },
  {
   "cell_type": "code",
   "execution_count": 25,
   "id": "b71f2e87",
   "metadata": {},
   "outputs": [
    {
     "name": "stdout",
     "output_type": "stream",
     "text": [
      "To find the product that is the least sold, you can use the following query:\n",
      "\n",
      "```sql\n",
      "SELECT p.product_name, COALESCE(SUM(s.quantity), 0) AS total_sold\n",
      "FROM products p\n",
      "LEFT JOIN sales s ON p.product_id = s.product_id\n",
      "GROUP BY p.product_name\n",
      "ORDER BY total_sold\n",
      "LIMIT 1;\n",
      "```\n",
      "\n",
      "This query will return the product that has the least quantity sold.\n"
     ]
    }
   ],
   "source": [
    "context_user = store_context.copy()\n",
    "print(return_CCRMSQL(\"Which product is the least sold?\", context_user))\n"
   ]
  },
  {
   "cell_type": "code",
   "execution_count": 26,
   "id": "4c689bca",
   "metadata": {},
   "outputs": [
    {
     "name": "stdout",
     "output_type": "stream",
     "text": [
      "To find the product that was sold more than 5 times in the current month, you can use the following SQL query:\n",
      "\n",
      "```sql\n",
      "SELECT p.product_name, SUM(s.quantity) AS total_sold\n",
      "FROM products p\n",
      "JOIN sales s ON p.product_id = s.product_id\n",
      "WHERE MONTH(s.sale_date) = MONTH(CURRENT_DATE()) AND YEAR(s.sale_date) = YEAR(CURRENT_DATE())\n",
      "GROUP BY p.product_name\n",
      "HAVING total_sold > 5;\n",
      "```\n",
      "\n",
      "This query will retrieve the product name and the total quantity sold for products that were sold more than 5 times in the current month.\n"
     ]
    }
   ],
   "source": [
    "context_user = store_context.copy()\n",
    "print(return_CCRMSQL(\"Which product was sold more than 5 times in the current month?\", context_user))\n"
   ]
  },
  {
   "cell_type": "code",
   "execution_count": 27,
   "id": "ff9bde9a",
   "metadata": {},
   "outputs": [
    {
     "name": "stdout",
     "output_type": "stream",
     "text": [
      "To determine the product with the highest monthly sales rate in the current year, you can use the following SQL query:\n",
      "\n",
      "```sql\n",
      "SELECT p.product_name, MONTH(s.sale_date) AS month, SUM(s.quantity) AS total_sold\n",
      "FROM products p\n",
      "JOIN sales s ON p.product_id = s.product_id\n",
      "WHERE YEAR(s.sale_date) = YEAR(CURRENT_DATE()) -- Filter for the current year\n",
      "GROUP BY p.product_name, MONTH(s.sale_date)\n",
      "ORDER BY total_sold DESC\n",
      "LIMIT 1;\n",
      "```\n",
      "\n",
      "This query will calculate the total quantity sold for each product in each month of the current year, then identify the product with the highest monthly sales rate.\n"
     ]
    }
   ],
   "source": [
    "# creative 1\n",
    "\n",
    "context_user = store_context.copy()\n",
    "print(return_CCRMSQL(\"Which product had the highest monthly sales rate in the current year?\", context_user))\n"
   ]
  },
  {
   "cell_type": "code",
   "execution_count": 28,
   "id": "c89caaa0",
   "metadata": {},
   "outputs": [
    {
     "name": "stdout",
     "output_type": "stream",
     "text": [
      "To determine which category generated the highest revenue this year, we need to calculate the revenue generated by each category by multiplying the quantity of each product sold by its price, and then summing up the total revenue for each category. Here is the SQL query to achieve this:\n",
      "\n",
      "```sql\n",
      "SELECT p.category, SUM(s.quantity * p.price) AS total_revenue\n",
      "FROM products p\n",
      "JOIN sales s ON p.product_id = s.product_id\n",
      "WHERE YEAR(s.sale_date) = YEAR(CURDATE())\n",
      "GROUP BY p.category\n",
      "ORDER BY total_revenue DESC\n",
      "LIMIT 1;\n",
      "```\n",
      "\n",
      "This query will calculate the total revenue generated by each category for sales that occurred this year, and then return the category that generated the highest revenue.\n"
     ]
    }
   ],
   "source": [
    "# creative 2\n",
    "\n",
    "context_user = store_context.copy()\n",
    "print(return_CCRMSQL(\"Which category generated the highest revenue this year?\", context_user))\n"
   ]
  },
  {
   "cell_type": "code",
   "execution_count": 29,
   "id": "e3caf8e3",
   "metadata": {},
   "outputs": [
    {
     "name": "stdout",
     "output_type": "stream",
     "text": [
      "To determine the product that saw the biggest drop in sales compared to last year, we need to compare the total quantity sold for each product in the current year with the total quantity sold for each product in the previous year. However, the provided database schema does not include a column for the year of sale. To calculate the drop in sales compared to last year, we would need additional information such as the sale date or year.\n",
      "\n",
      "If you can provide more details or modify the schema to include the necessary information, I can assist you further in analyzing the product that saw the biggest drop in sales compared to last year.\n"
     ]
    }
   ],
   "source": [
    "# creative 3\n",
    "\n",
    "context_user = store_context.copy()\n",
    "print(return_CCRMSQL(\"Which product saw the biggest drop in sales compared to last year?\", context_user))\n"
   ]
  },
  {
   "cell_type": "code",
   "execution_count": null,
   "id": "7771fd99",
   "metadata": {},
   "outputs": [],
   "source": []
  }
 ],
 "metadata": {
  "colab": {
   "include_colab_link": true,
   "provenance": []
  },
  "kernelspec": {
   "display_name": "Python 3",
   "language": "python",
   "name": "python3"
  },
  "language_info": {
   "codemirror_mode": {
    "name": "ipython",
    "version": 3
   },
   "file_extension": ".py",
   "mimetype": "text/x-python",
   "name": "python",
   "nbconvert_exporter": "python",
   "pygments_lexer": "ipython3",
   "version": "3.9.10"
  }
 },
 "nbformat": 4,
 "nbformat_minor": 5
}
